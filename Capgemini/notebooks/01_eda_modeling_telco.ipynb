{
 "cells": [
  {
   "cell_type": "markdown",
   "id": "3955aa3e",
   "metadata": {},
   "source": [
    "# NoteBook - Test 1\n"
   ]
  },
  {
   "cell_type": "markdown",
   "id": "a4b14530",
   "metadata": {},
   "source": [
    "Instalar dependencias y  ejecución requirements.txt\n"
   ]
  },
  {
   "cell_type": "code",
   "execution_count": null,
   "id": "2c5f0871",
   "metadata": {},
   "outputs": [
    {
     "name": "stdout",
     "output_type": "stream",
     "text": [
      "✅ Dependencias instaladas\n"
     ]
    }
   ],
   "source": [
    "import sys, subprocess, pathlib\n",
    "import sys, pathlib\n",
    "import importlib\n",
    "from pathlib import Path\n",
    "import mlflow\n",
    "from pathlib import Path\n",
    "import pandas as pd\n",
    "import numpy as np\n",
    "import importlib\n",
    "from pathlib import Path\n",
    "import matplotlib.pyplot as plt\n",
    "from sklearn.feature_selection import mutual_info_classif\n",
    "from sklearn.compose import ColumnTransformer\n",
    "from sklearn.preprocessing import OneHotEncoder, StandardScaler\n",
    "from sklearn.impute import SimpleImputer\n",
    "from sklearn.pipeline import Pipeline\n",
    "import numpy as np\n",
    "\n",
    "# Ruta al requirements desde el notebook\n",
    "root = pathlib.Path(\"..\").resolve()\n",
    "req  = root / \"requirements.txt\"\n",
    "\n",
    "# Instala usando el mismo intérprete del kernel\n",
    "subprocess.check_call([sys.executable, \"-m\", \"pip\", \"install\", \"-r\", str(req)])\n",
    "print(\"✅ Dependencias instaladas\")\n"
   ]
  },
  {
   "cell_type": "markdown",
   "id": "19a3d0c2",
   "metadata": {},
   "source": [
    "Preparar imports del proyecto\n"
   ]
  },
  {
   "cell_type": "code",
   "execution_count": null,
   "id": "278b6e97",
   "metadata": {},
   "outputs": [
    {
     "name": "stdout",
     "output_type": "stream",
     "text": [
      "C:\\Users\\Javichu\\OneDrive - UFV\\Escritorio\\personal\\Capgemini\\Capgemini\n"
     ]
    }
   ],
   "source": [
    "\n",
    "root = pathlib.Path(\"..\").resolve()          # carpeta Capgemini\n",
    "if str(root) not in sys.path:\n",
    "    sys.path.insert(0, str(root))\n",
    "print(root)"
   ]
  },
  {
   "cell_type": "markdown",
   "id": "445d59f4",
   "metadata": {},
   "source": [
    "## Importación del modulo principal del proyecto\n",
    "Antes de continuar, verificamos que el paquete src.telco_churn está correctamente estructurado e importable. Esto confirma que los scripts internos están disponibles para su uso dentro del entorno."
   ]
  },
  {
   "cell_type": "code",
   "execution_count": null,
   "id": "b824339b",
   "metadata": {},
   "outputs": [
    {
     "name": "stdout",
     "output_type": "stream",
     "text": [
      "✅ src.telco_churn importado: <module 'src.telco_churn' from 'C:\\\\Users\\\\Javichu\\\\OneDrive - UFV\\\\Escritorio\\\\personal\\\\Capgemini\\\\Capgemini\\\\src\\\\telco_churn\\\\__init__.py'>\n"
     ]
    }
   ],
   "source": [
    "\n",
    "mod = importlib.import_module(\"src.telco_churn\")\n",
    "print(\"✅ src.telco_churn importado:\", mod)\n"
   ]
  },
  {
   "cell_type": "markdown",
   "id": "398b0835",
   "metadata": {},
   "source": [
    "## Configuración de MLflow para el tracking de experimentos\n",
    "Se establece MLflow como herramienta de seguimiento de experimentos. Para ello, se configura el directorio de almacenamiento local (mlruns) y se define un experimento llamado \"telco_churn_experiment\""
   ]
  },
  {
   "cell_type": "code",
   "execution_count": null,
   "id": "17fe9b11",
   "metadata": {},
   "outputs": [
    {
     "name": "stdout",
     "output_type": "stream",
     "text": [
      "✅ MLflow configurado en: file:///C:/Users/Javichu/OneDrive%20-%20UFV/Escritorio/personal/Capgemini/Capgemini/mlruns\n"
     ]
    }
   ],
   "source": [
    "\n",
    "\n",
    "# root debe apuntar a la carpeta del proyecto (si vienes de la Celda B, ya lo tienes)\n",
    "mlruns_dir = (root / \"mlruns\").resolve()\n",
    "mlruns_dir.mkdir(parents=True, exist_ok=True)  # por si no existe\n",
    "\n",
    "mlflow.set_tracking_uri(mlruns_dir.as_uri())   # <-- genera \"file:///C:/...”\n",
    "mlflow.set_experiment(\"telco_churn_experiment\")\n",
    "print(\"✅ MLflow configurado en:\", mlflow.get_tracking_uri())\n"
   ]
  },
  {
   "cell_type": "markdown",
   "id": "95296e92",
   "metadata": {},
   "source": [
    "Localización el CSV\n"
   ]
  },
  {
   "cell_type": "code",
   "execution_count": null,
   "id": "fa65dceb",
   "metadata": {},
   "outputs": [
    {
     "data": {
      "text/plain": [
       "WindowsPath('../data/raw/WA_Fn-UseC_-Telco-Customer-Churn.csv')"
      ]
     },
     "execution_count": 60,
     "metadata": {},
     "output_type": "execute_result"
    }
   ],
   "source": [
    "\n",
    "\n",
    "RAW = Path(\"../data/raw\")\n",
    "CSV = RAW / \"WA_Fn-UseC_-Telco-Customer-Churn.csv\"\n",
    "\n",
    "if not CSV.exists():\n",
    "    raise FileNotFoundError(\n",
    "        f\"⚠️ No encuentro {CSV}.\\n\"\n",
    "        \"Descárgalo desde Kaggle (web) y colócalo en data/raw/ con ese nombre.\"\n",
    "    )\n",
    "CSV\n"
   ]
  },
  {
   "cell_type": "markdown",
   "id": "df54fb04",
   "metadata": {},
   "source": [
    "### Carga y limpieza inicial del dataset\n",
    "\n",
    "Se realiza la carga del dataset y una serie de transformaciones básicas para dejarlo listo para el análisis y modelado:\n",
    "\n",
    "- Carga del CSV con `pandas.read_csv`.\n",
    "- Eliminación de la columna `customerID`, ya que es un identificador único irrelevante para el modelo.\n",
    "- Conversión de `TotalCharges` a tipo numérico, forzando errores como `NaN` si es necesario.\n",
    "- Mapeo de la variable objetivo `Churn`: se transforma de valores `\"Yes\"/\"No\"` a `1/0` para tareas de clasificación.\n",
    "- Unificación de valores `\"No internet/phone service\"` a `\"No\"` en columnas binarias relacionadas con servicios.\n",
    "- Conversión segura de columnas numéricas como `tenure`, `MonthlyCharges`, `TotalCharges`, y `SeniorCitizen`, garantizando un tipo de dato adecuado (`float` o `int`).\n"
   ]
  },
  {
   "cell_type": "code",
   "execution_count": null,
   "id": "fa192c0a",
   "metadata": {},
   "outputs": [
    {
     "data": {
      "text/plain": [
       "(   gender  SeniorCitizen Partner Dependents  tenure PhoneService  \\\n",
       " 0  Female              0     Yes         No       1           No   \n",
       " 1    Male              0      No         No      34          Yes   \n",
       " 2    Male              0      No         No       2          Yes   \n",
       " \n",
       "   MultipleLines InternetService OnlineSecurity OnlineBackup DeviceProtection  \\\n",
       " 0            No             DSL             No          Yes               No   \n",
       " 1            No             DSL            Yes           No              Yes   \n",
       " 2            No             DSL            Yes          Yes               No   \n",
       " \n",
       "   TechSupport StreamingTV StreamingMovies        Contract PaperlessBilling  \\\n",
       " 0          No          No              No  Month-to-month              Yes   \n",
       " 1          No          No              No        One year               No   \n",
       " 2          No          No              No  Month-to-month              Yes   \n",
       " \n",
       "       PaymentMethod  MonthlyCharges  TotalCharges  Churn  \n",
       " 0  Electronic check           29.85         29.85      0  \n",
       " 1      Mailed check           56.95       1889.50      0  \n",
       " 2      Mailed check           53.85        108.15      1  ,\n",
       " (7043, 20))"
      ]
     },
     "execution_count": 61,
     "metadata": {},
     "output_type": "execute_result"
    }
   ],
   "source": [
    "\n",
    "\n",
    "mod = importlib.import_module(\"src.telco_churn\")\n",
    "\n",
    "df = pd.read_csv(CSV)\n",
    "\n",
    "# Limpiezas conocidas\n",
    "df = df.drop(columns=[\"customerID\"], errors=\"ignore\")  # identificador\n",
    "if \"TotalCharges\" in df.columns:\n",
    "    df[\"TotalCharges\"] = pd.to_numeric(df[\"TotalCharges\"], errors=\"coerce\")\n",
    "\n",
    "# Mapear objetivo a 0/1\n",
    "df[\"Churn\"] = df[\"Churn\"].map({\"Yes\": 1, \"No\": 0}).astype(int)\n",
    "\n",
    "# Unificar \"No internet/phone service\" -> \"No\" en binarias\n",
    "for c in [\"OnlineSecurity\",\"OnlineBackup\",\"DeviceProtection\",\"TechSupport\",\"StreamingTV\",\"StreamingMovies\"]:\n",
    "    if c in df.columns:\n",
    "        df[c] = df[c].replace({\"No internet service\": \"No\"})\n",
    "if \"MultipleLines\" in df.columns:\n",
    "    df[\"MultipleLines\"] = df[\"MultipleLines\"].replace({\"No phone service\":\"No\"})\n",
    "\n",
    "# Coerción suave a numérico donde procede\n",
    "for c in [\"tenure\",\"MonthlyCharges\",\"TotalCharges\",\"SeniorCitizen\"]:\n",
    "    if c in df.columns:\n",
    "        df[c] = pd.to_numeric(df[c], errors=\"coerce\")\n",
    "\n",
    "df.head(3), df.shape\n"
   ]
  },
  {
   "cell_type": "markdown",
   "id": "f739b564",
   "metadata": {},
   "source": [
    "Validaciones rapidas (esquema,tipos,nulos, dominios)"
   ]
  },
  {
   "cell_type": "code",
   "execution_count": 62,
   "id": "b5514ce5",
   "metadata": {},
   "outputs": [
    {
     "name": "stdout",
     "output_type": "stream",
     "text": [
      "⚠️  WARNINGS:\n",
      "  - Filas duplicadas: 22\n"
     ]
    }
   ],
   "source": [
    "from src.telco_churn.evaluate import validate_telco_df\n",
    "from src.telco_churn.evaluate import pretty_print_report\n",
    "rep = validate_telco_df(df, strict=False)  # pon strict=True si quieres que pare ante errores\n",
    "pretty_print_report(rep)\n"
   ]
  },
  {
   "cell_type": "markdown",
   "id": "018eb02e",
   "metadata": {},
   "source": [
    "### Tipos de datos, distribución de la variable objetivo y valores nulos\n",
    "\n",
    "Se realiza una inspección básica del DataFrame para entender la estructura del conjunto de datos:\n",
    "\n",
    "- **Tipos de datos (`dtypes`)**:  \n",
    "  La mayoría de las columnas son de tipo `object` (categóricas), excepto `SeniorCitizen`, `tenure`, `MonthlyCharges` y `TotalCharges`, que son numéricas. La variable objetivo `Churn` ha sido convertida correctamente a `int`.\n",
    "\n",
    "- **Distribución de la variable objetivo (`Churn`)**:  \n",
    "  Existe un desbalance moderado:  \n",
    "  - `\"No\"` representa aproximadamente el 73.5% de los casos.  \n",
    "  - `\"Yes\"` representa el 26.5% restante.  \n",
    "  Este desbalance deberá tenerse en cuenta al entrenar modelos.\n",
    "\n",
    "- **Valores nulos**:  \n",
    "  Solo la columna `TotalCharges` presenta valores nulos (~0.15%).  \n",
    "  El resto de las columnas no presenta datos faltantes, lo cual simplifica el preprocesamiento.\n"
   ]
  },
  {
   "cell_type": "code",
   "execution_count": 63,
   "id": "18e2367f",
   "metadata": {},
   "outputs": [
    {
     "data": {
      "text/html": [
       "<div>\n",
       "<style scoped>\n",
       "    .dataframe tbody tr th:only-of-type {\n",
       "        vertical-align: middle;\n",
       "    }\n",
       "\n",
       "    .dataframe tbody tr th {\n",
       "        vertical-align: top;\n",
       "    }\n",
       "\n",
       "    .dataframe thead th {\n",
       "        text-align: right;\n",
       "    }\n",
       "</style>\n",
       "<table border=\"1\" class=\"dataframe\">\n",
       "  <thead>\n",
       "    <tr style=\"text-align: right;\">\n",
       "      <th></th>\n",
       "      <th>gender</th>\n",
       "      <th>SeniorCitizen</th>\n",
       "      <th>Partner</th>\n",
       "      <th>Dependents</th>\n",
       "      <th>tenure</th>\n",
       "      <th>PhoneService</th>\n",
       "      <th>MultipleLines</th>\n",
       "      <th>InternetService</th>\n",
       "      <th>OnlineSecurity</th>\n",
       "      <th>OnlineBackup</th>\n",
       "      <th>DeviceProtection</th>\n",
       "      <th>TechSupport</th>\n",
       "      <th>StreamingTV</th>\n",
       "      <th>StreamingMovies</th>\n",
       "      <th>Contract</th>\n",
       "      <th>PaperlessBilling</th>\n",
       "      <th>PaymentMethod</th>\n",
       "      <th>MonthlyCharges</th>\n",
       "      <th>TotalCharges</th>\n",
       "      <th>Churn</th>\n",
       "    </tr>\n",
       "  </thead>\n",
       "  <tbody>\n",
       "    <tr>\n",
       "      <th>dtype</th>\n",
       "      <td>object</td>\n",
       "      <td>int64</td>\n",
       "      <td>object</td>\n",
       "      <td>object</td>\n",
       "      <td>int64</td>\n",
       "      <td>object</td>\n",
       "      <td>object</td>\n",
       "      <td>object</td>\n",
       "      <td>object</td>\n",
       "      <td>object</td>\n",
       "      <td>object</td>\n",
       "      <td>object</td>\n",
       "      <td>object</td>\n",
       "      <td>object</td>\n",
       "      <td>object</td>\n",
       "      <td>object</td>\n",
       "      <td>object</td>\n",
       "      <td>float64</td>\n",
       "      <td>float64</td>\n",
       "      <td>int32</td>\n",
       "    </tr>\n",
       "  </tbody>\n",
       "</table>\n",
       "</div>"
      ],
      "text/plain": [
       "       gender SeniorCitizen Partner Dependents tenure PhoneService  \\\n",
       "dtype  object         int64  object     object  int64       object   \n",
       "\n",
       "      MultipleLines InternetService OnlineSecurity OnlineBackup  \\\n",
       "dtype        object          object         object       object   \n",
       "\n",
       "      DeviceProtection TechSupport StreamingTV StreamingMovies Contract  \\\n",
       "dtype           object      object      object          object   object   \n",
       "\n",
       "      PaperlessBilling PaymentMethod MonthlyCharges TotalCharges  Churn  \n",
       "dtype           object        object        float64      float64  int32  "
      ]
     },
     "metadata": {},
     "output_type": "display_data"
    },
    {
     "name": "stdout",
     "output_type": "stream",
     "text": [
      "Distribución objetivo (Churn):\n"
     ]
    },
    {
     "data": {
      "text/plain": [
       "Churn\n",
       "No     0.73463\n",
       "Yes    0.26537\n",
       "Name: proportion, dtype: float64"
      ]
     },
     "metadata": {},
     "output_type": "display_data"
    },
    {
     "name": "stdout",
     "output_type": "stream",
     "text": [
      "Top nulos:\n"
     ]
    },
    {
     "data": {
      "text/plain": [
       "TotalCharges        0.001562\n",
       "gender              0.000000\n",
       "SeniorCitizen       0.000000\n",
       "MonthlyCharges      0.000000\n",
       "PaymentMethod       0.000000\n",
       "PaperlessBilling    0.000000\n",
       "Contract            0.000000\n",
       "StreamingMovies     0.000000\n",
       "StreamingTV         0.000000\n",
       "TechSupport         0.000000\n",
       "dtype: float64"
      ]
     },
     "metadata": {},
     "output_type": "display_data"
    }
   ],
   "source": [
    "display(df.dtypes.to_frame(\"dtype\").T)\n",
    "\n",
    "print(\"Distribución objetivo (Churn):\")\n",
    "display(df[\"Churn\"].value_counts(normalize=True).rename({0:\"No\",1:\"Yes\"}))\n",
    "\n",
    "print(\"Top nulos:\")\n",
    "display(df.isna().mean().sort_values(ascending=False).head(10))\n"
   ]
  },
  {
   "cell_type": "markdown",
   "id": "53413f3f",
   "metadata": {},
   "source": [
    "### Guardado de los datos procesados\n",
    "\n",
    "Tras la limpieza del dataset, se procede a guardar los resultados en diferentes formatos para su posterior uso:\n",
    "\n",
    "- Se crea la carpeta `data/processed` si no existe previamente.\n",
    "- Se generan y guardan dos versiones del dataset:\n",
    "  - **Completa**: Se guarda el DataFrame completo como archivo CSV (`telco_clean.csv`).\n",
    "  - **Muestra aleatoria**: Se toma una muestra aleatoria de hasta 5.000 filas (útil para pruebas o entrenamiento rápido) y se guarda como `telco_sample_5k.csv`.\n",
    "\n",
    "- Adicionalmente, si se dispone de las librerías `pyarrow` o `fastparquet`, también se exportan ambas versiones en formato **Parquet**, que es más eficiente en términos de espacio y velocidad para grandes volúmenes de datos.\n",
    "\n",
    "Este paso asegura que los datos ya preparados estén almacenados de forma accesible y reutilizable tanto para análisis como para procesos automatizados de entrenamiento o inferencia.\n"
   ]
  },
  {
   "cell_type": "code",
   "execution_count": null,
   "id": "1127a25c",
   "metadata": {},
   "outputs": [
    {
     "name": "stdout",
     "output_type": "stream",
     "text": [
      "✅ Guardado CSV y Parquet en: C:\\Users\\Javichu\\OneDrive - UFV\\Escritorio\\personal\\Capgemini\\Capgemini\\data\\processed\n"
     ]
    }
   ],
   "source": [
    "\n",
    "\n",
    "PROCESSED = Path(\"../data/processed\")\n",
    "PROCESSED.mkdir(parents=True, exist_ok=True)\n",
    "\n",
    "# Rutas de salida\n",
    "clean_csv      = PROCESSED / \"telco_clean.csv\"\n",
    "sample_csv     = PROCESSED / \"telco_sample_5k.csv\"\n",
    "clean_parquet  = PROCESSED / \"telco_clean.parquet\"\n",
    "sample_parquet = PROCESSED / \"telco_sample_5k.parquet\"\n",
    "\n",
    "# Guardar dataset completo (CSV)\n",
    "df.to_csv(clean_csv, index=False)\n",
    "\n",
    "# Crear una muestra (máx. 5k filas) y guardarla (CSV)\n",
    "sample_df = df.sample(n=min(5000, len(df)), random_state=42)\n",
    "sample_df.to_csv(sample_csv, index=False)\n",
    "\n",
    "# Parquet opcional (si tienes pyarrow o fastparquet instalado)\n",
    "try:\n",
    "    df.to_parquet(clean_parquet, index=False)\n",
    "    sample_df.to_parquet(sample_parquet, index=False)\n",
    "    print(\"✅ Guardado CSV y Parquet en:\", PROCESSED.resolve())\n",
    "except Exception as e:\n",
    "    print(\"✅ Guardado CSV en:\", PROCESSED.resolve())\n",
    "    print(\"ℹ️ Parquet omitido (instala 'pyarrow' o 'fastparquet' si lo necesitas). Motivo:\", e)\n"
   ]
  },
  {
   "cell_type": "markdown",
   "id": "fdbbc369",
   "metadata": {},
   "source": [
    "## EDA\n"
   ]
  },
  {
   "cell_type": "markdown",
   "id": "f27aea5e",
   "metadata": {},
   "source": [
    "### Carga y limpieza inicial del dataset para el EDA\n",
    "\n",
    "Se comienza el análisis exploratorio cargando el dataset original (`WA_Fn-UseC_-Telco-Customer-Churn.csv`) desde la ruta `data/raw/`.\n",
    "\n",
    "- **Carga**: Se utiliza la función `load_telco_csv` definida en el módulo `src.telco_churn.data` para leer el archivo CSV.\n",
    "- **Limpieza básica**: A continuación, se aplica la función `basic_cleaning` (desde `src.telco_churn.features`), que realiza una primera limpieza estandarizada del conjunto de datos. Esta limpieza incluye:\n",
    "  - Conversión de columnas numéricas mal tipadas.\n",
    "  - Sustitución de valores inconsistentes o faltantes.\n",
    "  - Preparación del objetivo (`Churn`) y otras variables clave.\n",
    "\n",
    "Finalmente, se muestra la forma del DataFrame (`shape`) y el nombre de sus columnas, permitiendo verificar la correcta carga y preprocesamiento inicial del dataset antes de continuar con el EDA visual y estadístico.\n"
   ]
  },
  {
   "cell_type": "code",
   "execution_count": 65,
   "id": "61350682",
   "metadata": {},
   "outputs": [
    {
     "data": {
      "text/plain": [
       "((7043, 20),\n",
       " Index(['gender', 'SeniorCitizen', 'Partner', 'Dependents', 'tenure',\n",
       "        'PhoneService', 'MultipleLines', 'InternetService', 'OnlineSecurity',\n",
       "        'OnlineBackup', 'DeviceProtection', 'TechSupport', 'StreamingTV',\n",
       "        'StreamingMovies', 'Contract', 'PaperlessBilling', 'PaymentMethod',\n",
       "        'MonthlyCharges', 'TotalCharges', 'Churn'],\n",
       "       dtype='object'))"
      ]
     },
     "execution_count": 65,
     "metadata": {},
     "output_type": "execute_result"
    }
   ],
   "source": [
    "from src.telco_churn.data import load_telco_csv\n",
    "from src.telco_churn.features import basic_cleaning\n",
    "\n",
    "df = basic_cleaning(load_telco_csv(\"../data/raw/WA_Fn-UseC_-Telco-Customer-Churn.csv\"))\n",
    "df.shape, df.columns\n",
    "\n"
   ]
  },
  {
   "cell_type": "markdown",
   "id": "3ec66543",
   "metadata": {},
   "source": [
    "### Validación estructural y semántica del dataset\n",
    "\n",
    "Antes de profundizar en el análisis exploratorio, se realiza una validación del conjunto de datos utilizando funciones personalizadas para comprobar su consistencia y estructura:\n",
    "\n",
    "- **`validate_telco_df(df)`**: Esta función revisa que el DataFrame contenga todas las columnas necesarias,\n",
    "\n"
   ]
  },
  {
   "cell_type": "code",
   "execution_count": 66,
   "id": "00e05397",
   "metadata": {},
   "outputs": [
    {
     "name": "stdout",
     "output_type": "stream",
     "text": [
      "⚠️  WARNINGS:\n",
      "  - Filas duplicadas: 22\n"
     ]
    }
   ],
   "source": [
    "from src.telco_churn.evaluate import validate_telco_df, pretty_print_report\n",
    "\n",
    "report = validate_telco_df(df)\n",
    "pretty_print_report(report)\n"
   ]
  },
  {
   "cell_type": "markdown",
   "id": "2e16dc92",
   "metadata": {},
   "source": [
    "### Análisis de la variable objetivo: Churn\n",
    "\n",
    "En esta sección se analiza la distribución de la variable objetivo `Churn`, que representa si un cliente ha abandonado el servicio o no:\n",
    "\n",
    "- **Clase 0 (No churn)**: 5.174 clientes\n",
    "- **Clase 1 (Sí churn)**: 1.869 clientes\n",
    "- **Tasa de churn**: 26.55%\n",
    "\n",
    "Se observa un claro **desbalance de clases**, lo cual es un aspecto importante a considerar al seleccionar y evaluar modelos de clasificación. Este desequilibrio podría requerir el uso de técnicas como *resampling*, ajuste de pesos en los modelos, o métricas específicas como el F1-score o el ROC-AUC.\n",
    "\n",
    "A continuación se muestra un gráfico de barras con la distribución de clases:\n",
    "\n",
    "\n"
   ]
  },
  {
   "cell_type": "code",
   "execution_count": null,
   "id": "48a0fa0f",
   "metadata": {},
   "outputs": [
    {
     "name": "stdout",
     "output_type": "stream",
     "text": [
      "Distribución de clases:\n"
     ]
    },
    {
     "data": {
      "text/plain": [
       "Churn\n",
       "0    5174\n",
       "1    1869\n",
       "Name: count, dtype: int64"
      ]
     },
     "metadata": {},
     "output_type": "display_data"
    },
    {
     "name": "stdout",
     "output_type": "stream",
     "text": [
      "\n",
      "Tasa de churn: 26.54%\n"
     ]
    },
    {
     "data": {
      "image/png": "[encoded data removed]",
      "text/plain": [
       "<Figure size 640x480 with 1 Axes>"
      ]
     },
     "metadata": {},
     "output_type": "display_data"
    }
   ],
   "source": [
    "\n",
    "\n",
    "churn_counts = df[\"Churn\"].value_counts()\n",
    "churn_rate = df[\"Churn\"].mean()\n",
    "\n",
    "print(\"Distribución de clases:\")\n",
    "display(churn_counts)\n",
    "print(f\"\\nTasa de churn: {churn_rate:.2%}\")\n",
    "\n",
    "churn_counts.plot(kind=\"bar\", title=\"Distribución de Churn\", xlabel=\"Churn\", ylabel=\"Nº de clientes\")\n",
    "plt.xticks([0, 1], [\"No\", \"Yes\"], rotation=0)\n",
    "plt.show()"
   ]
  },
  {
   "cell_type": "markdown",
   "id": "f61e6f1e",
   "metadata": {},
   "source": [
    "### Análisis de la variable objetivo: `Churn`\n",
    "\n",
    "En esta sección se analiza la distribución de la variable objetivo `Churn`, que indica si un cliente ha abandonado el servicio:\n",
    "\n",
    "- **Clase 0 (No churn)**: 5.174 clientes  \n",
    "- **Clase 1 (Sí churn)**: 1.869 clientes  \n",
    "- **Tasa de churn**: 26.55%\n",
    "\n",
    "Este desequilibrio refleja un **problema de clases desbalanceadas**, que puede afectar negativamente el rendimiento de ciertos algoritmos de clasificación. Será importante tenerlo en cuenta más adelante al seleccionar métricas de evaluación o aplicar técnicas de balanceo como `SMOTE`, `undersampling`, o el uso de `class_weight`.\n",
    "\n",
    "---\n",
    "\n",
    "### Distribución de variables numéricas por clase (`Churn`)\n",
    "\n",
    "Se utilizan diagramas de cajas (*boxplots*) para explorar cómo se comportan algunas variables numéricas clave en función de la clase de salida (`Churn`):\n",
    "\n",
    "#### `tenure` (tiempo como cliente)\n",
    "Clientes que **no abandonan** tienden a tener una mayor antigüedad. Los que **sí abandonan** se concentran en los primeros meses de contratación.\n",
    "\n",
    "#### `MonthlyCharges` (facturación mensual)\n",
    "Los clientes que **abandonan** tienden a tener facturas mensuales más altas. Esto podría sugerir una mayor sensibilidad al precio o una relación con los servicios contratados.\n",
    "\n",
    "\n",
    "\n",
    "#### `TotalCharges` (facturación total acumulada)\n",
    "Los clientes que han estado más tiempo (y no han abandonado) presentan valores de `TotalCharges` significativamente más altos, lo cual es esperable.\n",
    "\n",
    "\n",
    "\n",
    "\n"
   ]
  },
  {
   "cell_type": "code",
   "execution_count": 68,
   "id": "7fec8b63",
   "metadata": {},
   "outputs": [
    {
     "data": {
      "image/png": "[encoded data removed]",
      "text/plain": [
       "<Figure size 640x480 with 1 Axes>"
      ]
     },
     "metadata": {},
     "output_type": "display_data"
    },
    {
     "data": {
      "image/png": "[encoded data removed]",
      "text/plain": [
       "<Figure size 640x480 with 1 Axes>"
      ]
     },
     "metadata": {},
     "output_type": "display_data"
    },
    {
     "data": {
      "image/png": "[encoded data removed]",
      "text/plain": [
       "<Figure size 640x480 with 1 Axes>"
      ]
     },
     "metadata": {},
     "output_type": "display_data"
    }
   ],
   "source": [
    "num_cols = [\"tenure\", \"MonthlyCharges\", \"TotalCharges\"]\n",
    "\n",
    "for col in num_cols:\n",
    "    if col in df.columns:\n",
    "        df.boxplot(column=col, by=\"Churn\")\n",
    "        plt.title(f\"{col} por Churn\")\n",
    "        plt.suptitle(\"\")\n",
    "        plt.ylabel(col)\n",
    "        plt.show()\n"
   ]
  },
  {
   "cell_type": "markdown",
   "id": "6057a723",
   "metadata": {},
   "source": [
    "### Resumen estadístico de variables numéricas por clase (`Churn`)\n",
    "\n",
    "Se muestra un resumen de las principales estadísticas descriptivas (`media`, `mediana`, `desviación estándar`, `mínimo` y `máximo`) para cada variable numérica, diferenciadas por clase (`Churn = 0` y `Churn = 1`):\n",
    "\n",
    "| Variable         | Métrica | Churn = 0       | Churn = 1       | Observaciones destacadas |\n",
    "|------------------|---------|------------------|------------------|----------------------------|\n",
    "| **SeniorCitizen** | Media   | 0.129            | 0.255            | Hay una mayor proporción de personas mayores entre quienes abandonan. |\n",
    "|                  | Mediana | 0.000            | 0.000            | La mayoría no son seniors, pero los que lo son abandonan más. |\n",
    "| **tenure**        | Media   | 37.57            | 17.98            | Los clientes que se quedan tienen mucha más antigüedad. |\n",
    "|                  | Mediana | 38.00            | 10.00            | Confirmación clara del patrón de abandono temprano. |\n",
    "| **MonthlyCharges**| Media   | 61.27            | 74.44            | Los clientes que abandonan tienden a pagar más al mes. |\n",
    "|                  | Mediana | 64.43            | 79.65            | El patrón se mantiene con la mediana. |\n",
    "| **TotalCharges**  | Media   | 2555.34          | 1531.80          | Total acumulado más bajo en los clientes que se van, ligado al menor tiempo. |\n",
    "|                  | Mediana | 1683.60          | 703.55           | Se refuerza el patrón de menor duración y facturación. |\n",
    "\n",
    "Este análisis numérico respalda las observaciones gráficas previas: los clientes que abandonan tienden a tener menor permanencia (`tenure`) y menor gasto total (`TotalCharges`), pero su factura mensual (`MonthlyCharges`) es más alta. Además, ser `SeniorCitizen` parece estar correlacionado con una mayor tasa de abandono.\n"
   ]
  },
  {
   "cell_type": "code",
   "execution_count": 69,
   "id": "71a4ae70",
   "metadata": {},
   "outputs": [
    {
     "data": {
      "text/html": [
       "<div>\n",
       "<style scoped>\n",
       "    .dataframe tbody tr th:only-of-type {\n",
       "        vertical-align: middle;\n",
       "    }\n",
       "\n",
       "    .dataframe tbody tr th {\n",
       "        vertical-align: top;\n",
       "    }\n",
       "\n",
       "    .dataframe thead th {\n",
       "        text-align: right;\n",
       "    }\n",
       "</style>\n",
       "<table border=\"1\" class=\"dataframe\">\n",
       "  <thead>\n",
       "    <tr style=\"text-align: right;\">\n",
       "      <th></th>\n",
       "      <th>Churn</th>\n",
       "      <th>0</th>\n",
       "      <th>1</th>\n",
       "    </tr>\n",
       "  </thead>\n",
       "  <tbody>\n",
       "    <tr>\n",
       "      <th rowspan=\"5\" valign=\"top\">SeniorCitizen</th>\n",
       "      <th>mean</th>\n",
       "      <td>0.128721</td>\n",
       "      <td>0.254682</td>\n",
       "    </tr>\n",
       "    <tr>\n",
       "      <th>median</th>\n",
       "      <td>0.000000</td>\n",
       "      <td>0.000000</td>\n",
       "    </tr>\n",
       "    <tr>\n",
       "      <th>std</th>\n",
       "      <td>0.334923</td>\n",
       "      <td>0.435799</td>\n",
       "    </tr>\n",
       "    <tr>\n",
       "      <th>min</th>\n",
       "      <td>0.000000</td>\n",
       "      <td>0.000000</td>\n",
       "    </tr>\n",
       "    <tr>\n",
       "      <th>max</th>\n",
       "      <td>1.000000</td>\n",
       "      <td>1.000000</td>\n",
       "    </tr>\n",
       "    <tr>\n",
       "      <th rowspan=\"5\" valign=\"top\">tenure</th>\n",
       "      <th>mean</th>\n",
       "      <td>37.569965</td>\n",
       "      <td>17.979133</td>\n",
       "    </tr>\n",
       "    <tr>\n",
       "      <th>median</th>\n",
       "      <td>38.000000</td>\n",
       "      <td>10.000000</td>\n",
       "    </tr>\n",
       "    <tr>\n",
       "      <th>std</th>\n",
       "      <td>24.113777</td>\n",
       "      <td>19.531123</td>\n",
       "    </tr>\n",
       "    <tr>\n",
       "      <th>min</th>\n",
       "      <td>0.000000</td>\n",
       "      <td>1.000000</td>\n",
       "    </tr>\n",
       "    <tr>\n",
       "      <th>max</th>\n",
       "      <td>72.000000</td>\n",
       "      <td>72.000000</td>\n",
       "    </tr>\n",
       "    <tr>\n",
       "      <th rowspan=\"5\" valign=\"top\">MonthlyCharges</th>\n",
       "      <th>mean</th>\n",
       "      <td>61.265124</td>\n",
       "      <td>74.441332</td>\n",
       "    </tr>\n",
       "    <tr>\n",
       "      <th>median</th>\n",
       "      <td>64.425000</td>\n",
       "      <td>79.650000</td>\n",
       "    </tr>\n",
       "    <tr>\n",
       "      <th>std</th>\n",
       "      <td>31.092648</td>\n",
       "      <td>24.666053</td>\n",
       "    </tr>\n",
       "    <tr>\n",
       "      <th>min</th>\n",
       "      <td>18.250000</td>\n",
       "      <td>18.850000</td>\n",
       "    </tr>\n",
       "    <tr>\n",
       "      <th>max</th>\n",
       "      <td>118.750000</td>\n",
       "      <td>118.350000</td>\n",
       "    </tr>\n",
       "    <tr>\n",
       "      <th rowspan=\"5\" valign=\"top\">TotalCharges</th>\n",
       "      <th>mean</th>\n",
       "      <td>2555.344141</td>\n",
       "      <td>1531.796094</td>\n",
       "    </tr>\n",
       "    <tr>\n",
       "      <th>median</th>\n",
       "      <td>1683.600000</td>\n",
       "      <td>703.550000</td>\n",
       "    </tr>\n",
       "    <tr>\n",
       "      <th>std</th>\n",
       "      <td>2329.456984</td>\n",
       "      <td>1890.822994</td>\n",
       "    </tr>\n",
       "    <tr>\n",
       "      <th>min</th>\n",
       "      <td>18.800000</td>\n",
       "      <td>18.850000</td>\n",
       "    </tr>\n",
       "    <tr>\n",
       "      <th>max</th>\n",
       "      <td>8672.450000</td>\n",
       "      <td>8684.800000</td>\n",
       "    </tr>\n",
       "  </tbody>\n",
       "</table>\n",
       "</div>"
      ],
      "text/plain": [
       "Churn                            0            1\n",
       "SeniorCitizen  mean       0.128721     0.254682\n",
       "               median     0.000000     0.000000\n",
       "               std        0.334923     0.435799\n",
       "               min        0.000000     0.000000\n",
       "               max        1.000000     1.000000\n",
       "tenure         mean      37.569965    17.979133\n",
       "               median    38.000000    10.000000\n",
       "               std       24.113777    19.531123\n",
       "               min        0.000000     1.000000\n",
       "               max       72.000000    72.000000\n",
       "MonthlyCharges mean      61.265124    74.441332\n",
       "               median    64.425000    79.650000\n",
       "               std       31.092648    24.666053\n",
       "               min       18.250000    18.850000\n",
       "               max      118.750000   118.350000\n",
       "TotalCharges   mean    2555.344141  1531.796094\n",
       "               median  1683.600000   703.550000\n",
       "               std     2329.456984  1890.822994\n",
       "               min       18.800000    18.850000\n",
       "               max     8672.450000  8684.800000"
      ]
     },
     "execution_count": 69,
     "metadata": {},
     "output_type": "execute_result"
    }
   ],
   "source": [
    "from src.telco_churn.eda import num_summary_by_target\n",
    "\n",
    "num_summary_by_target(df)\n"
   ]
  },
  {
   "cell_type": "markdown",
   "id": "b35cb995",
   "metadata": {},
   "source": [
    "### Matriz de correlación (variables numéricas)\n",
    "\n",
    "Se calcula la correlación de Pearson entre las variables numéricas del conjunto (`tenure`, `MonthlyCharges`, `TotalCharges`) y se visualiza en un mapa de calor.\n",
    "\n",
    "**Hallazgos principales:**\n",
    "- `tenure` ↔ `TotalCharges` ≈ 0.83 (fuerte, positiva): el cargo total crece con el tiempo. En la práctica, `TotalCharges` ≈ `MonthlyCharges × tenure` ± recargos/bonificaciones, por lo que ambas variables comparten gran parte de la varianza.\n",
    "- `MonthlyCharges` ↔ `TotalCharges` ≈ 0.65 (moderada, positiva): a mayor factura mensual, mayor acumulado; la relación no es perfecta porque también depende de `tenure`.\n",
    "- `tenure` ↔ `MonthlyCharges` ≈ 0.25 (débil, positiva): el precio mensual depende del paquete/servicios contratados, no necesariamente de la antigüedad; clientes nuevos pueden tener tarifas altas o bajas según el bundle, por eso la asociación es baja.\n",
    "\n",
    "**Patrones y razonamiento:**\n",
    "- La fuerte asociación `tenure–TotalCharges` sugiere **multicolinealidad**: ambas variables codifican información temporal/acumulada muy similar. En modelos lineales (p. ej., regresión logística) puede inflar varianzas de coeficientes y dificultar la interpretación.\n",
    "- `TotalCharges` se comporta como una **variable “casi derivada”** de `tenure` y `MonthlyCharges`. Por tanto, puede ser redundante o introducir ruido si existen ajustes puntuales (descuentos, cargos únicos) que rompen la proporcionalidad simple.\n",
    "- `MonthlyCharges` refleja la **intensidad de servicios** (p. ej., fibra, streaming, líneas múltiples), mientras que `tenure` refleja **antigüedad**. Son dimensiones distintas; su baja correlación sugiere que ambos aportan señales complementarias: precio actual vs. madurez del cliente.\n",
    "- Posibles **confusores de negocio**: el tipo de contrato (mes a mes vs. anual) o el tipo de internet (DSL vs. fibra) puede influir simultáneamente en `MonthlyCharges` y en la propensión a acumular `TotalCharges`, generando dependencias indirectas.\n",
    "\n",
    "**Implicaciones para el modelado:**\n",
    "- En modelos lineales, considerar:\n",
    "  - eliminar una de las dos variables colineales (`TotalCharges` o `tenure`), o\n",
    "  - usar regularización (L1/L2) y comprobar VIF para diagnosticar multicolinealidad.\n",
    "- En modelos basados en árboles (Random Forest, Gradient Boosting), la colinealidad es menos problemática, pero sigue siendo aconsejable vigilar la estabilidad de importancias.\n",
    "- Ingeniería de características recomendada:\n",
    "  - `ExpectedTotal = MonthlyCharges × tenure` y `Ratio = TotalCharges / (ExpectedTotal + ε)` para capturar desviaciones respecto a lo esperado (p. ej., descuentos, cargos únicos, impagos).\n",
    "  - Estandarizar numéricas si se emplean modelos sensibles a escala.\n",
    "\n",
    "La figura de la matriz de correlación refleja estos patrones y magnitudes, y guía la selección/transformación de variables para una mejor generalización del modelo.\n"
   ]
  },
  {
   "cell_type": "code",
   "execution_count": 70,
   "id": "68fc1696",
   "metadata": {},
   "outputs": [
    {
     "name": "stdout",
     "output_type": "stream",
     "text": [
      "Requirement already satisfied: seaborn in c:\\users\\javichu\\appdata\\local\\packages\\pythonsoftwarefoundation.python.3.11_qbz5n2kfra8p0\\localcache\\local-packages\\python311\\site-packages (0.13.2)Note: you may need to restart the kernel to use updated packages.\n",
      "\n",
      "Requirement already satisfied: numpy!=1.24.0,>=1.20 in c:\\users\\javichu\\appdata\\local\\packages\\pythonsoftwarefoundation.python.3.11_qbz5n2kfra8p0\\localcache\\local-packages\\python311\\site-packages (from seaborn) (1.26.4)\n",
      "Requirement already satisfied: pandas>=1.2 in c:\\users\\javichu\\appdata\\local\\packages\\pythonsoftwarefoundation.python.3.11_qbz5n2kfra8p0\\localcache\\local-packages\\python311\\site-packages (from seaborn) (2.2.2)\n",
      "Requirement already satisfied: matplotlib!=3.6.1,>=3.4 in c:\\users\\javichu\\appdata\\local\\packages\\pythonsoftwarefoundation.python.3.11_qbz5n2kfra8p0\\localcache\\local-packages\\python311\\site-packages (from seaborn) (3.9.0)\n",
      "Requirement already satisfied: contourpy>=1.0.1 in c:\\users\\javichu\\appdata\\local\\packages\\pythonsoftwarefoundation.python.3.11_qbz5n2kfra8p0\\localcache\\local-packages\\python311\\site-packages (from matplotlib!=3.6.1,>=3.4->seaborn) (1.3.3)\n",
      "Requirement already satisfied: cycler>=0.10 in c:\\users\\javichu\\appdata\\local\\packages\\pythonsoftwarefoundation.python.3.11_qbz5n2kfra8p0\\localcache\\local-packages\\python311\\site-packages (from matplotlib!=3.6.1,>=3.4->seaborn) (0.12.1)\n",
      "Requirement already satisfied: fonttools>=4.22.0 in c:\\users\\javichu\\appdata\\local\\packages\\pythonsoftwarefoundation.python.3.11_qbz5n2kfra8p0\\localcache\\local-packages\\python311\\site-packages (from matplotlib!=3.6.1,>=3.4->seaborn) (4.59.1)\n",
      "Requirement already satisfied: kiwisolver>=1.3.1 in c:\\users\\javichu\\appdata\\local\\packages\\pythonsoftwarefoundation.python.3.11_qbz5n2kfra8p0\\localcache\\local-packages\\python311\\site-packages (from matplotlib!=3.6.1,>=3.4->seaborn) (1.4.9)\n",
      "Requirement already satisfied: packaging>=20.0 in c:\\users\\javichu\\appdata\\local\\packages\\pythonsoftwarefoundation.python.3.11_qbz5n2kfra8p0\\localcache\\local-packages\\python311\\site-packages (from matplotlib!=3.6.1,>=3.4->seaborn) (23.2)\n",
      "Requirement already satisfied: pillow>=8 in c:\\users\\javichu\\appdata\\local\\packages\\pythonsoftwarefoundation.python.3.11_qbz5n2kfra8p0\\localcache\\local-packages\\python311\\site-packages (from matplotlib!=3.6.1,>=3.4->seaborn) (11.3.0)\n",
      "Requirement already satisfied: pyparsing>=2.3.1 in c:\\users\\javichu\\appdata\\local\\packages\\pythonsoftwarefoundation.python.3.11_qbz5n2kfra8p0\\localcache\\local-packages\\python311\\site-packages (from matplotlib!=3.6.1,>=3.4->seaborn) (3.2.3)\n",
      "Requirement already satisfied: python-dateutil>=2.7 in c:\\users\\javichu\\appdata\\local\\packages\\pythonsoftwarefoundation.python.3.11_qbz5n2kfra8p0\\localcache\\local-packages\\python311\\site-packages (from matplotlib!=3.6.1,>=3.4->seaborn) (2.8.2)\n",
      "Requirement already satisfied: pytz>=2020.1 in c:\\users\\javichu\\appdata\\local\\packages\\pythonsoftwarefoundation.python.3.11_qbz5n2kfra8p0\\localcache\\local-packages\\python311\\site-packages (from pandas>=1.2->seaborn) (2024.2)\n",
      "Requirement already satisfied: tzdata>=2022.7 in c:\\users\\javichu\\appdata\\local\\packages\\pythonsoftwarefoundation.python.3.11_qbz5n2kfra8p0\\localcache\\local-packages\\python311\\site-packages (from pandas>=1.2->seaborn) (2025.2)\n",
      "Requirement already satisfied: six>=1.5 in c:\\users\\javichu\\appdata\\local\\packages\\pythonsoftwarefoundation.python.3.11_qbz5n2kfra8p0\\localcache\\local-packages\\python311\\site-packages (from python-dateutil>=2.7->matplotlib!=3.6.1,>=3.4->seaborn) (1.16.0)\n"
     ]
    },
    {
     "name": "stderr",
     "output_type": "stream",
     "text": [
      "\n",
      "[notice] A new release of pip is available: 24.0 -> 25.2\n",
      "[notice] To update, run: C:\\Users\\Javichu\\AppData\\Local\\Microsoft\\WindowsApps\\PythonSoftwareFoundation.Python.3.11_qbz5n2kfra8p0\\python.exe -m pip install --upgrade pip\n"
     ]
    },
    {
     "data": {
      "image/png": "[encoded data removed]",
      "text/plain": [
       "<Figure size 640x480 with 2 Axes>"
      ]
     },
     "metadata": {},
     "output_type": "display_data"
    }
   ],
   "source": [
    "%pip install seaborn\n",
    "\n",
    "import seaborn as sns\n",
    "\n",
    "corr = df[num_cols].corr()\n",
    "sns.heatmap(corr, annot=True, cmap=\"coolwarm\")\n",
    "plt.title(\"Matriz de correlación\")\n",
    "plt.show()\n"
   ]
  },
  {
   "cell_type": "markdown",
   "id": "95ac0792",
   "metadata": {},
   "source": [
    "### Tasa de churn por variables categóricas\n",
    "\n",
    "Se calcula la tasa de churn por categoría junto con el tamaño de cada grupo (`n`). Las variables mostradas son fuertes candidatas a predictores por su poder discriminativo.\n",
    "\n",
    "#### Contract\n",
    "- **Month-to-month**: 42.7% de churn (n=3,875)  \n",
    "- **One year**: 11.3% (n=1,473)  \n",
    "- **Two year**: 2.8% (n=1,695)  \n",
    "\n",
    "**Lectura:** los contratos mensuales presentan una probabilidad de baja muy superior. Los compromisos a 1–2 años actúan como mecanismo de retención.\n",
    "\n",
    "---\n",
    "\n",
    "#### InternetService\n",
    "- **Fiber optic**: 41.9% (n=3,096)  \n",
    "- **DSL**: 19.0% (n=2,421)  \n",
    "- **No**: 7.4% (n=1,526)\n",
    "\n",
    "**Lectura:** el servicio de fibra se asocia con más churn, probablemente por mayores importes mensuales y expectativas de calidad; “No internet” suele corresponder a clientes solo de telefonía, con baja tasa de baja. Conviene analizar la interacción con `MonthlyCharges` y `Contract`.\n",
    "\n",
    "---\n",
    "\n",
    "#### PaymentMethod\n",
    "- **Electronic check**: 45.3% (n=2,365)  \n",
    "- **Mailed check**: 19.1% (n=1,612)  \n",
    "- **Bank transfer (automatic)**: 16.7% (n=1,544)  \n",
    "- **Credit card (automatic)**: 15.2% (n=1,522)\n",
    "\n",
    "**Lectura:** los pagos automáticos (transferencia o tarjeta) se asocian a menor churn; el pago por “Electronic check” concentra la mayor tasa. Posible efecto de fricción de pago y perfil de cliente.\n",
    "\n",
    "---\n",
    "\n",
    "#### TechSupport\n",
    "- **No**: 31.2% (n=4,999)  \n",
    "- **Yes**: 15.2% (n=2,044)\n",
    "\n",
    "**Lectura:** disponer de soporte técnico reduce aproximadamente a la mitad la probabilidad de baja. Puede ser proxy de adopción/engagement.\n",
    "\n",
    "---\n",
    "\n",
    "#### OnlineSecurity\n",
    "- **No**: 31.3% (n=5,024)  \n",
    "- **Yes**: 14.6% (n=2,019)\n",
    "\n",
    "**Lectura:** poseer seguridad online también se asocia a menor churn; su efecto es similar al de `TechSupport`.\n",
    "\n",
    "---\n",
    "\n",
    "#### Implicaciones para modelado y negocio\n",
    "- **Modelado:** estas variables deben incluirse y codificarse (one-hot). Considerar interacciones con `MonthlyCharges` y `tenure`. En modelos lineales, vigilar colinealidad; en árboles, menor impacto pero revisar importancias/SHAP.\n",
    "- **Métricas:** por el desbalance, evaluar con ROC-AUC, F1 y curvas PR además de accuracy.\n",
    "- **Acciones de negocio sugeridas:** fomentar migración de **Month-to-month** a contratos anuales, incentivar **pagos automáticos**, y bundles con **TechSupport** y **OnlineSecurity**, especialmente en clientes de **fibra** con cargos mensuales altos.\n",
    "\n"
   ]
  },
  {
   "cell_type": "code",
   "execution_count": 71,
   "id": "171a4100",
   "metadata": {},
   "outputs": [
    {
     "name": "stdout",
     "output_type": "stream",
     "text": [
      "\n",
      "==== Contract ====\n"
     ]
    },
    {
     "data": {
      "text/html": [
       "<div>\n",
       "<style scoped>\n",
       "    .dataframe tbody tr th:only-of-type {\n",
       "        vertical-align: middle;\n",
       "    }\n",
       "\n",
       "    .dataframe tbody tr th {\n",
       "        vertical-align: top;\n",
       "    }\n",
       "\n",
       "    .dataframe thead th {\n",
       "        text-align: right;\n",
       "    }\n",
       "</style>\n",
       "<table border=\"1\" class=\"dataframe\">\n",
       "  <thead>\n",
       "    <tr style=\"text-align: right;\">\n",
       "      <th></th>\n",
       "      <th>rate</th>\n",
       "      <th>n</th>\n",
       "    </tr>\n",
       "    <tr>\n",
       "      <th>Contract</th>\n",
       "      <th></th>\n",
       "      <th></th>\n",
       "    </tr>\n",
       "  </thead>\n",
       "  <tbody>\n",
       "    <tr>\n",
       "      <th>Month-to-month</th>\n",
       "      <td>0.427097</td>\n",
       "      <td>3875</td>\n",
       "    </tr>\n",
       "    <tr>\n",
       "      <th>One year</th>\n",
       "      <td>0.112695</td>\n",
       "      <td>1473</td>\n",
       "    </tr>\n",
       "    <tr>\n",
       "      <th>Two year</th>\n",
       "      <td>0.028319</td>\n",
       "      <td>1695</td>\n",
       "    </tr>\n",
       "  </tbody>\n",
       "</table>\n",
       "</div>"
      ],
      "text/plain": [
       "                    rate     n\n",
       "Contract                      \n",
       "Month-to-month  0.427097  3875\n",
       "One year        0.112695  1473\n",
       "Two year        0.028319  1695"
      ]
     },
     "metadata": {},
     "output_type": "display_data"
    },
    {
     "name": "stdout",
     "output_type": "stream",
     "text": [
      "\n",
      "==== InternetService ====\n"
     ]
    },
    {
     "data": {
      "text/html": [
       "<div>\n",
       "<style scoped>\n",
       "    .dataframe tbody tr th:only-of-type {\n",
       "        vertical-align: middle;\n",
       "    }\n",
       "\n",
       "    .dataframe tbody tr th {\n",
       "        vertical-align: top;\n",
       "    }\n",
       "\n",
       "    .dataframe thead th {\n",
       "        text-align: right;\n",
       "    }\n",
       "</style>\n",
       "<table border=\"1\" class=\"dataframe\">\n",
       "  <thead>\n",
       "    <tr style=\"text-align: right;\">\n",
       "      <th></th>\n",
       "      <th>rate</th>\n",
       "      <th>n</th>\n",
       "    </tr>\n",
       "    <tr>\n",
       "      <th>InternetService</th>\n",
       "      <th></th>\n",
       "      <th></th>\n",
       "    </tr>\n",
       "  </thead>\n",
       "  <tbody>\n",
       "    <tr>\n",
       "      <th>Fiber optic</th>\n",
       "      <td>0.418928</td>\n",
       "      <td>3096</td>\n",
       "    </tr>\n",
       "    <tr>\n",
       "      <th>DSL</th>\n",
       "      <td>0.189591</td>\n",
       "      <td>2421</td>\n",
       "    </tr>\n",
       "    <tr>\n",
       "      <th>No</th>\n",
       "      <td>0.074050</td>\n",
       "      <td>1526</td>\n",
       "    </tr>\n",
       "  </tbody>\n",
       "</table>\n",
       "</div>"
      ],
      "text/plain": [
       "                     rate     n\n",
       "InternetService                \n",
       "Fiber optic      0.418928  3096\n",
       "DSL              0.189591  2421\n",
       "No               0.074050  1526"
      ]
     },
     "metadata": {},
     "output_type": "display_data"
    },
    {
     "name": "stdout",
     "output_type": "stream",
     "text": [
      "\n",
      "==== PaymentMethod ====\n"
     ]
    },
    {
     "data": {
      "text/html": [
       "<div>\n",
       "<style scoped>\n",
       "    .dataframe tbody tr th:only-of-type {\n",
       "        vertical-align: middle;\n",
       "    }\n",
       "\n",
       "    .dataframe tbody tr th {\n",
       "        vertical-align: top;\n",
       "    }\n",
       "\n",
       "    .dataframe thead th {\n",
       "        text-align: right;\n",
       "    }\n",
       "</style>\n",
       "<table border=\"1\" class=\"dataframe\">\n",
       "  <thead>\n",
       "    <tr style=\"text-align: right;\">\n",
       "      <th></th>\n",
       "      <th>rate</th>\n",
       "      <th>n</th>\n",
       "    </tr>\n",
       "    <tr>\n",
       "      <th>PaymentMethod</th>\n",
       "      <th></th>\n",
       "      <th></th>\n",
       "    </tr>\n",
       "  </thead>\n",
       "  <tbody>\n",
       "    <tr>\n",
       "      <th>Electronic check</th>\n",
       "      <td>0.452854</td>\n",
       "      <td>2365</td>\n",
       "    </tr>\n",
       "    <tr>\n",
       "      <th>Mailed check</th>\n",
       "      <td>0.191067</td>\n",
       "      <td>1612</td>\n",
       "    </tr>\n",
       "    <tr>\n",
       "      <th>Bank transfer (automatic)</th>\n",
       "      <td>0.167098</td>\n",
       "      <td>1544</td>\n",
       "    </tr>\n",
       "    <tr>\n",
       "      <th>Credit card (automatic)</th>\n",
       "      <td>0.152431</td>\n",
       "      <td>1522</td>\n",
       "    </tr>\n",
       "  </tbody>\n",
       "</table>\n",
       "</div>"
      ],
      "text/plain": [
       "                               rate     n\n",
       "PaymentMethod                            \n",
       "Electronic check           0.452854  2365\n",
       "Mailed check               0.191067  1612\n",
       "Bank transfer (automatic)  0.167098  1544\n",
       "Credit card (automatic)    0.152431  1522"
      ]
     },
     "metadata": {},
     "output_type": "display_data"
    },
    {
     "name": "stdout",
     "output_type": "stream",
     "text": [
      "\n",
      "==== TechSupport ====\n"
     ]
    },
    {
     "data": {
      "text/html": [
       "<div>\n",
       "<style scoped>\n",
       "    .dataframe tbody tr th:only-of-type {\n",
       "        vertical-align: middle;\n",
       "    }\n",
       "\n",
       "    .dataframe tbody tr th {\n",
       "        vertical-align: top;\n",
       "    }\n",
       "\n",
       "    .dataframe thead th {\n",
       "        text-align: right;\n",
       "    }\n",
       "</style>\n",
       "<table border=\"1\" class=\"dataframe\">\n",
       "  <thead>\n",
       "    <tr style=\"text-align: right;\">\n",
       "      <th></th>\n",
       "      <th>rate</th>\n",
       "      <th>n</th>\n",
       "    </tr>\n",
       "    <tr>\n",
       "      <th>TechSupport</th>\n",
       "      <th></th>\n",
       "      <th></th>\n",
       "    </tr>\n",
       "  </thead>\n",
       "  <tbody>\n",
       "    <tr>\n",
       "      <th>No</th>\n",
       "      <td>0.311862</td>\n",
       "      <td>4999</td>\n",
       "    </tr>\n",
       "    <tr>\n",
       "      <th>Yes</th>\n",
       "      <td>0.151663</td>\n",
       "      <td>2044</td>\n",
       "    </tr>\n",
       "  </tbody>\n",
       "</table>\n",
       "</div>"
      ],
      "text/plain": [
       "                 rate     n\n",
       "TechSupport                \n",
       "No           0.311862  4999\n",
       "Yes          0.151663  2044"
      ]
     },
     "metadata": {},
     "output_type": "display_data"
    },
    {
     "name": "stdout",
     "output_type": "stream",
     "text": [
      "\n",
      "==== OnlineSecurity ====\n"
     ]
    },
    {
     "data": {
      "text/html": [
       "<div>\n",
       "<style scoped>\n",
       "    .dataframe tbody tr th:only-of-type {\n",
       "        vertical-align: middle;\n",
       "    }\n",
       "\n",
       "    .dataframe tbody tr th {\n",
       "        vertical-align: top;\n",
       "    }\n",
       "\n",
       "    .dataframe thead th {\n",
       "        text-align: right;\n",
       "    }\n",
       "</style>\n",
       "<table border=\"1\" class=\"dataframe\">\n",
       "  <thead>\n",
       "    <tr style=\"text-align: right;\">\n",
       "      <th></th>\n",
       "      <th>rate</th>\n",
       "      <th>n</th>\n",
       "    </tr>\n",
       "    <tr>\n",
       "      <th>OnlineSecurity</th>\n",
       "      <th></th>\n",
       "      <th></th>\n",
       "    </tr>\n",
       "  </thead>\n",
       "  <tbody>\n",
       "    <tr>\n",
       "      <th>No</th>\n",
       "      <td>0.313296</td>\n",
       "      <td>5024</td>\n",
       "    </tr>\n",
       "    <tr>\n",
       "      <th>Yes</th>\n",
       "      <td>0.146112</td>\n",
       "      <td>2019</td>\n",
       "    </tr>\n",
       "  </tbody>\n",
       "</table>\n",
       "</div>"
      ],
      "text/plain": [
       "                    rate     n\n",
       "OnlineSecurity                \n",
       "No              0.313296  5024\n",
       "Yes             0.146112  2019"
      ]
     },
     "metadata": {},
     "output_type": "display_data"
    }
   ],
   "source": [
    "from src.telco_churn.eda import churn_rate_table\n",
    "\n",
    "cat_cols = [\"Contract\", \"InternetService\", \"PaymentMethod\", \"TechSupport\", \"OnlineSecurity\"]\n",
    "\n",
    "for col in cat_cols:\n",
    "    print(f\"\\n==== {col} ====\")\n",
    "    display(churn_rate_table(df, col, top=10))\n"
   ]
  },
  {
   "cell_type": "markdown",
   "id": "a21c5b24",
   "metadata": {},
   "source": [
    "Paso 8: Analisis de importacia de variables\n"
   ]
  },
  {
   "cell_type": "code",
   "execution_count": null,
   "id": "d727d6b0",
   "metadata": {},
   "outputs": [
    {
     "data": {
      "text/html": [
       "<div>\n",
       "<style scoped>\n",
       "    .dataframe tbody tr th:only-of-type {\n",
       "        vertical-align: middle;\n",
       "    }\n",
       "\n",
       "    .dataframe tbody tr th {\n",
       "        vertical-align: top;\n",
       "    }\n",
       "\n",
       "    .dataframe thead th {\n",
       "        text-align: right;\n",
       "    }\n",
       "</style>\n",
       "<table border=\"1\" class=\"dataframe\">\n",
       "  <thead>\n",
       "    <tr style=\"text-align: right;\">\n",
       "      <th></th>\n",
       "      <th>feature</th>\n",
       "      <th>mutual_info</th>\n",
       "    </tr>\n",
       "  </thead>\n",
       "  <tbody>\n",
       "    <tr>\n",
       "      <th>29</th>\n",
       "      <td>Contract_Month-to-month</td>\n",
       "      <td>0.101677</td>\n",
       "    </tr>\n",
       "    <tr>\n",
       "      <th>1</th>\n",
       "      <td>tenure</td>\n",
       "      <td>0.063314</td>\n",
       "    </tr>\n",
       "    <tr>\n",
       "      <th>31</th>\n",
       "      <td>Contract_Two year</td>\n",
       "      <td>0.056425</td>\n",
       "    </tr>\n",
       "    <tr>\n",
       "      <th>2</th>\n",
       "      <td>MonthlyCharges</td>\n",
       "      <td>0.048263</td>\n",
       "    </tr>\n",
       "    <tr>\n",
       "      <th>36</th>\n",
       "      <td>PaymentMethod_Electronic check</td>\n",
       "      <td>0.043864</td>\n",
       "    </tr>\n",
       "    <tr>\n",
       "      <th>3</th>\n",
       "      <td>TotalCharges</td>\n",
       "      <td>0.043082</td>\n",
       "    </tr>\n",
       "    <tr>\n",
       "      <th>15</th>\n",
       "      <td>InternetService_Fiber optic</td>\n",
       "      <td>0.035833</td>\n",
       "    </tr>\n",
       "    <tr>\n",
       "      <th>16</th>\n",
       "      <td>InternetService_No</td>\n",
       "      <td>0.024882</td>\n",
       "    </tr>\n",
       "    <tr>\n",
       "      <th>17</th>\n",
       "      <td>OnlineSecurity_No</td>\n",
       "      <td>0.020798</td>\n",
       "    </tr>\n",
       "    <tr>\n",
       "      <th>30</th>\n",
       "      <td>Contract_One year</td>\n",
       "      <td>0.018710</td>\n",
       "    </tr>\n",
       "    <tr>\n",
       "      <th>33</th>\n",
       "      <td>PaperlessBilling_Yes</td>\n",
       "      <td>0.018578</td>\n",
       "    </tr>\n",
       "    <tr>\n",
       "      <th>32</th>\n",
       "      <td>PaperlessBilling_No</td>\n",
       "      <td>0.017404</td>\n",
       "    </tr>\n",
       "    <tr>\n",
       "      <th>18</th>\n",
       "      <td>OnlineSecurity_Yes</td>\n",
       "      <td>0.017387</td>\n",
       "    </tr>\n",
       "    <tr>\n",
       "      <th>23</th>\n",
       "      <td>TechSupport_No</td>\n",
       "      <td>0.016624</td>\n",
       "    </tr>\n",
       "    <tr>\n",
       "      <th>9</th>\n",
       "      <td>Dependents_Yes</td>\n",
       "      <td>0.014006</td>\n",
       "    </tr>\n",
       "  </tbody>\n",
       "</table>\n",
       "</div>"
      ],
      "text/plain": [
       "                           feature  mutual_info\n",
       "29         Contract_Month-to-month     0.101677\n",
       "1                           tenure     0.063314\n",
       "31               Contract_Two year     0.056425\n",
       "2                   MonthlyCharges     0.048263\n",
       "36  PaymentMethod_Electronic check     0.043864\n",
       "3                     TotalCharges     0.043082\n",
       "15     InternetService_Fiber optic     0.035833\n",
       "16              InternetService_No     0.024882\n",
       "17               OnlineSecurity_No     0.020798\n",
       "30               Contract_One year     0.018710\n",
       "33            PaperlessBilling_Yes     0.018578\n",
       "32             PaperlessBilling_No     0.017404\n",
       "18              OnlineSecurity_Yes     0.017387\n",
       "23                  TechSupport_No     0.016624\n",
       "9                   Dependents_Yes     0.014006"
      ]
     },
     "execution_count": 72,
     "metadata": {},
     "output_type": "execute_result"
    }
   ],
   "source": [
    "\n",
    "\n",
    "X = df.drop(columns=[\"Churn\"])\n",
    "y = df[\"Churn\"]\n",
    "\n",
    "cat_cols = X.select_dtypes(include=\"object\").columns.tolist()\n",
    "num_cols = X.select_dtypes(include=np.number).columns.tolist()\n",
    "\n",
    "preprocessor = ColumnTransformer([\n",
    "    (\"num\", Pipeline([\n",
    "        (\"imp\", SimpleImputer(strategy=\"median\")),\n",
    "        (\"sc\", StandardScaler())\n",
    "    ]), num_cols),\n",
    "    (\"cat\", Pipeline([\n",
    "        (\"imp\", SimpleImputer(strategy=\"most_frequent\")),\n",
    "        (\"ohe\", OneHotEncoder(handle_unknown=\"ignore\"))\n",
    "    ]), cat_cols)\n",
    "])\n",
    "\n",
    "X_enc = preprocessor.fit_transform(X)\n",
    "feat_names = num_cols + list(preprocessor.named_transformers_[\"cat\"][\"ohe\"].get_feature_names_out(cat_cols))\n",
    "\n",
    "mi = mutual_info_classif(X_enc, y, random_state=42)\n",
    "mi_df = pd.DataFrame({\"feature\": feat_names, \"mutual_info\": mi})\n",
    "mi_df.sort_values(\"mutual_info\", ascending=False).head(15)\n"
   ]
  },
  {
   "cell_type": "markdown",
   "id": "143d74d5",
   "metadata": {},
   "source": [
    "### Ingeniería de variables: `ExpectedTotal` y `Ratio` y Prueba de Leakage\n",
    "\n",
    "- Se crean:\n",
    "  - `ExpectedTotal = MonthlyCharges * tenure`\n",
    "  - `Ratio = TotalCharges / ExpectedTotal` (inf → NaN)\n",
    "\n",
    "**`Ratio.describe()` (resumen):**\n",
    "- media ≈ 1.000, std ≈ 0.051, IQR ~ [0.98, 1.02], mín ≈ 0.689, máx ≈ 1.573.  \n",
    "- Cerca de 1 = facturación acorde a lo esperado; < 0.95 posibles descuentos; > 1.05 posibles recargos.\n",
    "\n",
    "**Nota (warning pandas):** evita asignación encadenada:\n",
    "```python\n",
    "df[\"Ratio\"] = df[\"TotalCharges\"].div(df[\"ExpectedTotal\"]).replace([np.inf, -np.inf], np.nan)\n"
   ]
  },
  {
   "cell_type": "code",
   "execution_count": 73,
   "id": "308fdaaf",
   "metadata": {},
   "outputs": [
    {
     "name": "stdout",
     "output_type": "stream",
     "text": [
      "Relación TotalCharges / (MonthlyCharges * tenure):\n"
     ]
    },
    {
     "name": "stderr",
     "output_type": "stream",
     "text": [
      "C:\\Users\\Javichu\\AppData\\Local\\Temp\\ipykernel_21012\\531357346.py:3: FutureWarning: A value is trying to be set on a copy of a DataFrame or Series through chained assignment using an inplace method.\n",
      "The behavior will change in pandas 3.0. This inplace method will never work because the intermediate object on which we are setting values always behaves as a copy.\n",
      "\n",
      "For example, when doing 'df[col].method(value, inplace=True)', try using 'df.method({col: value}, inplace=True)' or df[col] = df[col].method(value) instead, to perform the operation inplace on the original object.\n",
      "\n",
      "\n",
      "  df[\"Ratio\"].replace([np.inf, -np.inf], np.nan, inplace=True)\n"
     ]
    },
    {
     "data": {
      "text/plain": [
       "count    7032.000000\n",
       "mean        1.000275\n",
       "std         0.051159\n",
       "min         0.689356\n",
       "25%         0.979546\n",
       "50%         1.000000\n",
       "75%         1.019562\n",
       "max         1.573454\n",
       "Name: Ratio, dtype: float64"
      ]
     },
     "metadata": {},
     "output_type": "display_data"
    }
   ],
   "source": [
    "df[\"ExpectedTotal\"] = df[\"MonthlyCharges\"] * df[\"tenure\"]\n",
    "df[\"Ratio\"] = df[\"TotalCharges\"] / df[\"ExpectedTotal\"]\n",
    "df[\"Ratio\"].replace([np.inf, -np.inf], np.nan, inplace=True)\n",
    "\n",
    "print(\"Relación TotalCharges / (MonthlyCharges * tenure):\")\n",
    "display(df[\"Ratio\"].describe())\n"
   ]
  },
  {
   "cell_type": "markdown",
   "id": "50ee72c6",
   "metadata": {},
   "source": [
    "## 📌 Conclusiones del Análisis Exploratorio de Datos (EDA)\n",
    "\n",
    "### 🎯 Distribución de la variable objetivo (`Churn`)\n",
    "- El dataset está moderadamente desbalanceado:\n",
    "  - Aproximadamente **26-27%** de los clientes hacen churn.\n",
    "  - Es importante tener esto en cuenta en el entrenamiento (stratify, class_weight, etc.).\n",
    "\n",
    "---\n",
    "\n",
    "### 📊 Variables categóricas con relación al churn\n",
    "\n",
    "- **Contract**:\n",
    "  - Clientes con contrato **\"Month-to-month\"** tienen la **tasa de churn más alta** (~43%).\n",
    "  - Contratos anuales o bianuales retienen mucho mejor a los clientes.\n",
    "\n",
    "- **InternetService**:\n",
    "  - Los clientes con **\"Fiber optic\"** presentan más churn (~42%) frente a los de DSL (~19%) o sin servicio.\n",
    "\n",
    "- **TechSupport** y **OnlineSecurity**:\n",
    "  - La ausencia de estos servicios está **fuertemente asociada al churn**.\n",
    "  - Tener soporte o seguridad reduce la tasa de abandono.\n",
    "\n",
    "- **PaymentMethod**:\n",
    "  - **Electronic check** se asocia a más churn (~34%).\n",
    "  - Métodos automáticos (como tarjeta o transferencia) presentan menor churn (~15%).\n",
    "\n",
    "---\n",
    "\n",
    "### 🔢 Variables numéricas asociadas al churn\n",
    "\n",
    "- **Tenure (antigüedad)**:\n",
    "  - La variable con **mayor poder predictivo negativo**: más antigüedad → menor churn.\n",
    "\n",
    "- **MonthlyCharges**:\n",
    "  - Los clientes que pagan más tienden a hacer más churn, posiblemente por tener más servicios activos.\n",
    "\n",
    "- **TotalCharges**:\n",
    "  - Relacionada con `tenure`, también inversamente proporcional al churn.\n",
    "  - Se detectó que puede inducir *leakage*, ya que se deriva de `tenure × MonthlyCharges`.\n",
    "\n",
    "---\n",
    "\n",
    "### ✅ Calidad de datos\n",
    "\n",
    "- **TotalCharges** contenía valores no numéricos (limpiados con `pd.to_numeric(..., errors=\"coerce\")`).\n",
    "- No hay columnas con nulos significativos (>5%).\n",
    "- Se unificaron categorías como `\"No internet service\"` → `\"No\"`.\n",
    "\n",
    "---\n",
    "\n",
    "### 🧠 Observaciones adicionales\n",
    "\n",
    "- Algunas variables categóricas tienen muchas categorías (`PaymentMethod`, `InternetService`), requerirán One-Hot Encoding.\n",
    "- Variables como `TotalCharges` son redundantes y podrían descartarse para evitar *data leakage*.\n",
    "- Hay correlaciones claras que se deben considerar si se usan modelos lineales.\n",
    "\n",
    "---\n",
    "\n",
    "### ✅ Conclusión general\n",
    "\n",
    "- Ya se identificaron varias variables relevantes para modelado.\n",
    "- El análisis sugiere que `Contract`, `tenure`, y servicios como `TechSupport` son claves para predecir churn.\n",
    "- El dataset es suficientemente limpio y balanceado como para construir un modelo baseline.\n",
    "\n"
   ]
  },
  {
   "cell_type": "markdown",
   "id": "cbce80e4",
   "metadata": {},
   "source": [
    "## Baseline + Entrenamiento + Evaluación\n"
   ]
  },
  {
   "cell_type": "markdown",
   "id": "bf06bdad",
   "metadata": {},
   "source": [
    "### Construir Pre-procesador de datos\n"
   ]
  },
  {
   "cell_type": "code",
   "execution_count": 19,
   "id": "47e9b1f8",
   "metadata": {},
   "outputs": [
    {
     "data": {
      "text/plain": [
       "(7043, 40)"
      ]
     },
     "execution_count": 19,
     "metadata": {},
     "output_type": "execute_result"
    }
   ],
   "source": [
    "from src.telco_churn.features import build_preprocessor\n",
    "\n",
    "X = df.drop(columns=[\"Churn\"])\n",
    "y = df[\"Churn\"]\n",
    "\n",
    "preprocessor = build_preprocessor(X)\n",
    "X_prepared = preprocessor.fit_transform(X)\n",
    "X_prepared.shape\n"
   ]
  },
  {
   "cell_type": "markdown",
   "id": "24eef4b7",
   "metadata": {},
   "source": [
    "### Baseline de clasificación con Regresión Logística\n",
    "\n",
    "Este bloque entrena y evalúa un modelo baseline usando una **Regresión Logística** dentro de un **Pipeline** que incluye el preprocesamiento.\n",
    "\n",
    "**Pasos principales**\n",
    "- **Definición de variables**: `X = df` sin `Churn`; `y = df[\"Churn\"]`.\n",
    "- **Preprocesado** (`build_preprocessor(X)`): imputación de nulos, escalado de numéricas y codificación One-Hot de categóricas.\n",
    "- **Partición estratificada**: `train_test_split` con `test_size=0.2`, manteniendo la proporción de clases.\n",
    "- **Modelo**: `LogisticRegression(max_iter=1000, class_weight=\"balanced\", random_state=42)` para mitigar el desbalance.\n",
    "- **Entrenamiento**: `clf.fit(X_train, y_train)`.\n",
    "\n",
    "**Evaluación**\n",
    "- **Classification report**: precisión, recall y F1 por clase, además de macro/weighted averages.\n",
    "- **ROC AUC**: métrica agregada basada en `y_prob = predict_proba(...)`.\n",
    "- **Matriz de confusión**: visualización con `seaborn.heatmap` para aciertos/errores por clase.\n",
    "\n",
    "**Notas**\n",
    "- `class_weight=\"balanced\"` ayuda a compensar el desbalance de `Churn`.\n",
    "- Con `y_prob` se puede ajustar el **umbral de decisión** según el coste de falsos positivos/negativos.\n",
    "- Este baseline sirve de referencia para comparar con modelos más complejos (p. ej., Random Forest, Gradient Boosting).\n"
   ]
  },
  {
   "cell_type": "code",
   "execution_count": 20,
   "id": "542f1d51",
   "metadata": {},
   "outputs": [
    {
     "name": "stdout",
     "output_type": "stream",
     "text": [
      "✅ Classification Report:\n",
      "\n",
      "              precision    recall  f1-score   support\n",
      "\n",
      "           0       0.90      0.72      0.80      1035\n",
      "           1       0.51      0.79      0.62       374\n",
      "\n",
      "    accuracy                           0.74      1409\n",
      "   macro avg       0.71      0.76      0.71      1409\n",
      "weighted avg       0.80      0.74      0.75      1409\n",
      "\n",
      "ROC AUC Score: 0.841840398873647\n"
     ]
    },
    {
     "data": {
      "image/png": "[encoded data removed]",
      "text/plain": [
       "<Figure size 640x480 with 2 Axes>"
      ]
     },
     "metadata": {},
     "output_type": "display_data"
    }
   ],
   "source": [
    "from sklearn.linear_model import LogisticRegression\n",
    "from sklearn.pipeline import Pipeline\n",
    "from sklearn.model_selection import train_test_split\n",
    "from sklearn.metrics import classification_report, confusion_matrix, roc_auc_score\n",
    "import matplotlib.pyplot as plt\n",
    "import seaborn as sns\n",
    "\n",
    "# 🧪 Features y target\n",
    "X = df.drop(columns=[\"Churn\"])\n",
    "y = df[\"Churn\"]\n",
    "\n",
    "# 🧹 Preprocesador\n",
    "from src.telco_churn.features import build_preprocessor\n",
    "preprocessor = build_preprocessor(X)\n",
    "\n",
    "# 🔀 Split estratificado\n",
    "X_train, X_test, y_train, y_test = train_test_split(\n",
    "    X, y, test_size=0.2, stratify=y, random_state=42\n",
    ")\n",
    "\n",
    "# 🧠 Modelo baseline\n",
    "clf = Pipeline([\n",
    "    (\"preprocessor\", preprocessor),\n",
    "    (\"classifier\", LogisticRegression(max_iter=1000, class_weight=\"balanced\", random_state=42))\n",
    "])\n",
    "\n",
    "clf.fit(X_train, y_train)\n",
    "\n",
    "# 📊 Evaluación\n",
    "y_pred = clf.predict(X_test)\n",
    "y_prob = clf.predict_proba(X_test)[:, 1]\n",
    "\n",
    "print(\"✅ Classification Report:\\n\")\n",
    "print(classification_report(y_test, y_pred))\n",
    "\n",
    "print(\"ROC AUC Score:\", roc_auc_score(y_test, y_prob))\n",
    "\n",
    "# Matriz de confusión\n",
    "cm = confusion_matrix(y_test, y_pred)\n",
    "sns.heatmap(cm, annot=True, fmt=\"d\", cmap=\"Blues\")\n",
    "plt.title(\"Matriz de Confusión\")\n",
    "plt.xlabel(\"Predicción\")\n",
    "plt.ylabel(\"Real\")\n",
    "plt.show()\n"
   ]
  },
  {
   "cell_type": "markdown",
   "id": "dea82bc2",
   "metadata": {},
   "source": [
    "### Entrenamiento y tracking con MLflow (RandomForest)\n",
    "\n",
    "Este bloque entrena un **RandomForestClassifier** mediante la función utilitaria `train_and_log_model`, dejando trazas completas en **MLflow**.\n",
    "\n",
    "**Qué hace `train_and_log_model`:**\n",
    "- Separa `X = df` sin `Churn` y `y = df[\"Churn\"]`.\n",
    "- Split estratificado en train/test.\n",
    "- Construye el **preprocesador** con `build_preprocessor(X)` y lo encadena en un `Pipeline` con el modelo.\n",
    "- Entrena el modelo y calcula métricas de evaluación:\n",
    "  - `roc_auc` y, del `classification_report`, `precision`, `recall` y `f1-score` (ponderadas).\n",
    "- Registra en MLflow:\n",
    "  - **Parámetros** del modelo (`n_estimators`, `class_weight`, etc.).\n",
    "  - **Métricas**.\n",
    "  - **Artefactos**: el modelo serializado bajo `artifacts/model/`.\n",
    "\n",
    "**Configuración usada:**\n",
    "- Experimento: `telco_churn_experiment`.\n",
    "- Modelo: `RandomForestClassifier(n_estimators=100, class_weight=\"balanced\", random_state=42)`.\n",
    "- Nombre de la ejecución (run): `RandomForest_baseline`.\n",
    "\n",
    "**Cómo visualizar resultados:**\n",
    "- Lanza la UI de MLflow: `mlflow ui --port 5000`\n",
    "- Abre `http://127.0.0.1:5000`, entra en `telco_churn_experiment` y revisa:\n",
    "  - Métricas comparables entre runs.\n",
    "  - Parámetros y artefactos (modelo listo para servir).\n",
    "\n"
   ]
  },
  {
   "cell_type": "code",
   "execution_count": 23,
   "id": "be9c6f3f",
   "metadata": {},
   "outputs": [
    {
     "name": "stdout",
     "output_type": "stream",
     "text": [
      "✅ Modelo 'RandomForest_baseline' entrenado y loggeado con MLflow.\n"
     ]
    },
    {
     "name": "stderr",
     "output_type": "stream",
     "text": [
      "C:\\Program Files\\WindowsApps\\PythonSoftwareFoundation.Python.3.11_3.11.2544.0_x64__qbz5n2kfra8p0\\Lib\\site-packages\\_distutils_hack\\__init__.py:18: UserWarning: Distutils was imported before Setuptools, but importing Setuptools also replaces the `distutils` module in `sys.modules`. This may lead to undesirable behaviors or errors. To avoid these issues, avoid using distutils directly, ensure that setuptools is installed in the traditional way (e.g. not an editable install), and/or make sure that setuptools is always imported before distutils.\n",
      "  warnings.warn(\n",
      "C:\\Program Files\\WindowsApps\\PythonSoftwareFoundation.Python.3.11_3.11.2544.0_x64__qbz5n2kfra8p0\\Lib\\site-packages\\_distutils_hack\\__init__.py:33: UserWarning: Setuptools is replacing distutils.\n",
      "  warnings.warn(\"Setuptools is replacing distutils.\")\n"
     ]
    }
   ],
   "source": [
    "from sklearn.ensemble import RandomForestClassifier\n",
    "from src.telco_churn.train import train_and_log_model\n",
    "\n",
    "\n",
    "rf_model = RandomForestClassifier(\n",
    "    n_estimators=100,\n",
    "    class_weight=\"balanced\",\n",
    "    random_state=42\n",
    ")\n",
    "\n",
    "train_and_log_model(\n",
    "    df=df,  # Incluye la columna 'Churn'\n",
    "    model=rf_model,\n",
    "    model_name=\"RandomForest_baseline\",\n",
    "    experiment_name=\"telco_churn_experiment\",\n",
    "    \n",
    ")\n",
    "\n"
   ]
  },
  {
   "cell_type": "code",
   "execution_count": 26,
   "id": "c61b5fae",
   "metadata": {},
   "outputs": [
    {
     "name": "stdout",
     "output_type": "stream",
     "text": [
      "                             run_id  metrics.roc_auc\n",
      "0  de2e390183be4ca1825f70c0175296c1         0.827694\n",
      "1  983dffa054f34baead585bed11bb989e         0.827694\n",
      "2  e1f603ba9a534dc59036991ebc7f35b8         0.827694\n",
      "3  0fa067c4946048c4930fceea0d5f5dfc         0.827694\n",
      "4  55b02a97b5e84292ac83d0aace37e917         0.827694\n",
      "5  4269d628daae4a32b41ba49c2c00287e         0.827694\n",
      "6  c33900e9731e48a99bb4cb9d527eaf06         0.827694\n"
     ]
    }
   ],
   "source": [
    "import mlflow\n",
    "\n",
    "experiment = mlflow.get_experiment_by_name(\"telco_churn_experiment\")\n",
    "runs = mlflow.search_runs(experiment_ids=[experiment.experiment_id])\n",
    "print(runs[[\"run_id\", \"metrics.roc_auc\"]])\n",
    "\n"
   ]
  },
  {
   "cell_type": "markdown",
   "id": "24b34093",
   "metadata": {},
   "source": [
    "Input de prueba al modelo\n"
   ]
  },
  {
   "cell_type": "code",
   "execution_count": 55,
   "id": "5f7627e0",
   "metadata": {},
   "outputs": [
    {
     "name": "stdout",
     "output_type": "stream",
     "text": [
      "A) dataframe_records -> 200\n",
      "Pred: {'predictions': [0]}\n"
     ]
    }
   ],
   "source": [
    "!python \"C:/Users/Javichu/OneDrive - UFV/Escritorio/personal/Capgemini/Capgemini/src/telco_churn/predict_local.py\"\n",
    "\n"
   ]
  }
 ],
 "metadata": {
  "kernelspec": {
   "display_name": "Python 3",
   "language": "python",
   "name": "python3"
  },
  "language_info": {
   "codemirror_mode": {
    "name": "ipython",
    "version": 3
   },
   "file_extension": ".py",
   "mimetype": "text/x-python",
   "name": "python",
   "nbconvert_exporter": "python",
   "pygments_lexer": "ipython3",
   "version": "3.11.9"
  }
 },
 "nbformat": 4,
 "nbformat_minor": 5
}
